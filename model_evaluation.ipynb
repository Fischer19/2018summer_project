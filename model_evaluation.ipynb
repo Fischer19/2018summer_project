{
 "cells": [
  {
   "cell_type": "code",
   "execution_count": 1,
   "metadata": {},
   "outputs": [
    {
     "name": "stdout",
     "output_type": "stream",
     "text": [
      "True\n"
     ]
    },
    {
     "data": {
      "text/plain": [
       "' \\nNOTE: \\nEncoder RNN input of size (Sentence_length * input_feature)\\nEncoder RNN output of size (1 * 1 * hidden_size)  should be (num_sentences * 1 * hidden_size)\\n\\nDecoder RNN input of size 0 (scalar value)\\nDecoder RNN output of size (1 * target_num)   should be (num_sentences * target_num)\\n'"
      ]
     },
     "execution_count": 1,
     "metadata": {},
     "output_type": "execute_result"
    }
   ],
   "source": [
    "import torch\n",
    "import torch.nn as nn\n",
    "from torch import optim\n",
    "import torch.nn.functional as F\n",
    "import matplotlib.pyplot as plt\n",
    "%matplotlib inline \n",
    "plt.switch_backend('agg')\n",
    "import matplotlib.ticker as ticker\n",
    "import numpy as np\n",
    "from torch.autograd import Variable\n",
    "\n",
    "device = torch.device(\"cuda\" if torch.cuda.is_available() else \"cpu\")\n",
    "#device = torch.device(\"cpu\")\n",
    "    \n",
    "class DecoderRNN(nn.Module):\n",
    "    def __init__(self, input_size, hidden_size, output_size):\n",
    "        super(DecoderRNN, self).__init__()\n",
    "        self.input_size = input_size\n",
    "        self.hidden_size = hidden_size\n",
    "        self.output_size = output_size\n",
    "        \n",
    "        self.lstm_1 = nn.LSTM(self.input_size, self.hidden_size)\n",
    "        self.lstm_2 = nn.LSTM(self.hidden_size, self.hidden_size)\n",
    "        self.lstm_3 = nn.LSTM(self.hidden_size, self.hidden_size)\n",
    "        self.lstm_4 = nn.LSTM(self.hidden_size, self.hidden_size)\n",
    "        self.lstm_5 = nn.LSTM(self.hidden_size, self.hidden_size)\n",
    "        self.lstm_6 = nn.LSTM(self.hidden_size, self.hidden_size)\n",
    "        self.lstm_7 = nn.LSTM(self.hidden_size, self.hidden_size)\n",
    "        \n",
    "        self.out = nn.Linear(self.hidden_size, self.output_size)\n",
    "          \n",
    "        self.softmax = nn.Softmax(dim=1)\n",
    "        \n",
    "    def forward(self, input, ch_1, ch_2, ch_3, ch_4, ch_5, ch_6, ch_7):\n",
    "        (hidden_1, cell_1), (hidden_2, cell_2), (hidden_3, cell_3), (hidden_4, cell_4), (hidden_5, cell_5) = ch_1, ch_2, ch_3, ch_4, ch_5\n",
    "        (hidden_6, cell_6), (hidden_7, cell_7) = ch_6, ch_7\n",
    "        \n",
    "        \n",
    "        output, (hidden_1, cell_1) = self.lstm_1(input.view(1,1,-1).float(), (hidden_1, cell_1))\n",
    "        output_1 = output\n",
    "        \n",
    "        output, (hidden_2, cell_2) = self.lstm_2(output, (hidden_2, cell_2))\n",
    "        output_2 = output\n",
    "        \n",
    "        output, (hidden_3, cell_3) = self.lstm_3(output + output_1, (hidden_3, cell_3)) # skip_connection 1\n",
    "        output_3 = output\n",
    "        \n",
    "        output, (hidden_4, cell_4) = self.lstm_4(output + output_2, (hidden_4, cell_4)) # skip_connection 2\n",
    "        output_4 = output\n",
    "        \n",
    "        output, (hidden_5, cell_5) = self.lstm_5(output + output_3, (hidden_5, cell_5)) # skip_connection 3\n",
    "        output_5 = output\n",
    "        \n",
    "        output, (hidden_6, cell_6) = self.lstm_6(output + output_4, (hidden_6, cell_6)) # skip_connection 4\n",
    "        \n",
    "        output, (hidden_7, cell_7) = self.lstm_7(output + output_5, (hidden_7, cell_7)) # skip_connection 5\n",
    "        \n",
    "        output = self.out(output[0])\n",
    "        #output = self.softmax(output)\n",
    "        return output, (hidden_1, cell_1),(hidden_2, cell_2),(hidden_3, cell_3),(hidden_4, cell_4),(hidden_5, cell_5),(hidden_6, cell_6),(hidden_7, cell_7)\n",
    "    \n",
    "    def init_hidden(self):\n",
    "        return torch.rand((1, 1, self.hidden_size), device=device)/100\n",
    "    \n",
    "    def init_cell(self):\n",
    "        return torch.rand((1, 1, self.hidden_size), device=device)/100\n",
    "    \n",
    "    \n",
    "print(torch.cuda.is_available())\n",
    "\n",
    "\n",
    "\n",
    "\"\"\" \n",
    "NOTE: \n",
    "Encoder RNN input of size (Sentence_length * input_feature)\n",
    "Encoder RNN output of size (1 * 1 * hidden_size)  should be (num_sentences * 1 * hidden_size)\n",
    "\n",
    "Decoder RNN input of size 0 (scalar value)\n",
    "Decoder RNN output of size (1 * target_num)   should be (num_sentences * target_num)\n",
    "\"\"\""
   ]
  },
  {
   "cell_type": "code",
   "execution_count": 2,
   "metadata": {
    "collapsed": true
   },
   "outputs": [],
   "source": [
    "import pickle\n",
    "\n",
    "# load data from file\n",
    "\"\"\"with open(\"/home/yiqin/2018summer_project/DeepMusic/pitch_data.pkl\", \"rb\") as f:\n",
    "    dic = pickle.load(f)\n",
    "    train_X = dic[\"X\"]\n",
    "    #train_Y = dic[\"Y\"]\n",
    "    #time_X = dic[\"time\"]\n",
    "    \"\"\"\n",
    "    \n",
    "with open(\"/home/yiqin/2018summer_project/data/smooth_data.pkl\", \"rb\") as f:\n",
    "    dic = pickle.load(f)\n",
    "    train_X = dic[\"X\"]\n",
    "    train_Y = dic[\"Y\"]\n",
    "    \n",
    "    \n",
    "target_Tensor = train_Y\n",
    "maximum_target = len(train_Y)"
   ]
  },
  {
   "cell_type": "code",
   "execution_count": 3,
   "metadata": {
    "collapsed": true
   },
   "outputs": [],
   "source": [
    "def evaluate(decoder, test_X):\n",
    "    input_length = test_X.size(0)\n",
    "    \n",
    "    loss = 0\n",
    "        \n",
    "    hidden_1 = decoder.init_hidden()\n",
    "    hidden_2 = decoder.init_hidden()\n",
    "    hidden_3 = decoder.init_hidden()\n",
    "    hidden_4 = decoder.init_hidden()\n",
    "    hidden_5 = decoder.init_hidden()\n",
    "    hidden_6 = decoder.init_hidden()\n",
    "    hidden_7 = decoder.init_hidden()\n",
    "    cell_1 = decoder.init_cell()\n",
    "    cell_2 = decoder.init_cell()\n",
    "    cell_3 = decoder.init_cell()\n",
    "    cell_4 = decoder.init_cell()\n",
    "    cell_5 = decoder.init_cell()\n",
    "    cell_6 = decoder.init_cell()\n",
    "    cell_7 = decoder.init_cell()\n",
    "    \n",
    "    temp = []\n",
    "    temp_score = []\n",
    "    \n",
    "    decoder_input = test_X[0]\n",
    "    \n",
    "    for di in range(0, input_length):\n",
    "        decoder_output, (hidden_1, cell_1), (hidden_2, cell_2), (hidden_3, cell_3),  (hidden_4, cell_4), (hidden_5, cell_5), (hidden_6, cell_6), (hidden_7, cell_7) = decoder(decoder_input, \n",
    "                        (hidden_1, cell_1), (hidden_2, cell_2), (hidden_3, cell_3), (hidden_4, cell_4), (hidden_5, cell_5), (hidden_6, cell_6), (hidden_7, cell_7))\n",
    "        output = float(decoder_output.data.cpu().numpy())\n",
    "        temp.append(str('%.4f'%output))\n",
    "        if di + 1 < input_length:\n",
    "            decoder_input = test_X[di+1]\n",
    "\n",
    "    return np.array(temp)"
   ]
  },
  {
   "cell_type": "code",
   "execution_count": 4,
   "metadata": {},
   "outputs": [
    {
     "name": "stdout",
     "output_type": "stream",
     "text": [
      "DecoderRNN(\n",
      "  (lstm_1): LSTM(2, 256)\n",
      "  (lstm_2): LSTM(256, 256)\n",
      "  (lstm_3): LSTM(256, 256)\n",
      "  (lstm_4): LSTM(256, 256)\n",
      "  (lstm_5): LSTM(256, 256)\n",
      "  (lstm_6): LSTM(256, 256)\n",
      "  (lstm_7): LSTM(256, 256)\n",
      "  (out): Linear(in_features=256, out_features=1, bias=True)\n",
      "  (softmax): Softmax()\n",
      ")\n"
     ]
    }
   ],
   "source": [
    "input_size = 2\n",
    "hidden_size = 256\n",
    "output_size = 1\n",
    "\n",
    "model = DecoderRNN(input_size, hidden_size, output_size).to(device)\n",
    "\n",
    "model.load_state_dict(torch.load(\"lstm_smooth_train.pt\"))\n",
    "print(model)"
   ]
  },
  {
   "cell_type": "code",
   "execution_count": 10,
   "metadata": {},
   "outputs": [
    {
     "name": "stdout",
     "output_type": "stream",
     "text": [
      "['0.5089' '0.2707' '0.2138' '0.2618' '0.6571' '0.3452' '0.2440' '0.1207'\n",
      " '0.2671' '0.2712' '0.5836' '0.3614' '0.7295' '0.4606' '0.3404' '0.1747'\n",
      " '0.2724' '0.3517' '0.9018']\n",
      "[ 0.5    0.25   0.25   0.5    1.     0.5    0.25   0.125  0.125  0.125\n",
      "  0.25   0.5    1.     0.5    0.25   0.25   0.25   0.5    1.   ]\n"
     ]
    }
   ],
   "source": [
    "print(evaluate(model, train_X[15001].to(device)))\n",
    "print(train_Y[15001].numpy())"
   ]
  },
  {
   "cell_type": "code",
   "execution_count": 8,
   "metadata": {
    "collapsed": true
   },
   "outputs": [],
   "source": [
    "def validate(decoder, val_x, val_y):\n",
    "\n",
    "    hidden_1 = decoder.init_hidden()\n",
    "    hidden_2 = decoder.init_hidden()\n",
    "    hidden_3 = decoder.init_hidden()\n",
    "    hidden_4 = decoder.init_hidden()\n",
    "    hidden_5 = decoder.init_hidden()\n",
    "    hidden_6 = decoder.init_hidden()\n",
    "    hidden_7 = decoder.init_hidden()\n",
    "    cell_1 = decoder.init_cell()\n",
    "    cell_2 = decoder.init_cell()\n",
    "    cell_3 = decoder.init_cell()\n",
    "    cell_4 = decoder.init_cell()\n",
    "    cell_5 = decoder.init_cell()\n",
    "    cell_6 = decoder.init_cell()\n",
    "    cell_7 = decoder.init_cell()\n",
    "    \n",
    "    temp = []\n",
    "    temp_score = []\n",
    "    count = 0\n",
    "    for i in range(len(val_x)):\n",
    "        X = val_x[i].to(device)\n",
    "        val_input = X[0]\n",
    "        input_length = X.size(0)\n",
    "        for di in range(0, input_length):\n",
    "            decoder_output, (hidden_1, cell_1), (hidden_2, cell_2), (hidden_3, cell_3),  (hidden_4, cell_4), (hidden_5, cell_5), (hidden_6, cell_6), (hidden_7, cell_7) = decoder(val_input, \n",
    "                            (hidden_1, cell_1), (hidden_2, cell_2), (hidden_3, cell_3), (hidden_4, cell_4), (hidden_5, cell_5), (hidden_6, cell_6), (hidden_7, cell_7))\n",
    "            output = float(decoder_output.data.cpu().numpy())\n",
    "            #print(int(val_y[i][di]), decoder_output)\n",
    "            if int(val_y[i][di].item()) * int(decoder_output.item() > 0.5):\n",
    "                count += 1.0\n",
    "            if di + 1 < input_length:\n",
    "                val_input = X[di+1]\n",
    "                \n",
    "    acc = str('%.4f'%((count / len(val_x) * 100/3)) + \"%\")\n",
    "    return acc\n"
   ]
  },
  {
   "cell_type": "code",
   "execution_count": 9,
   "metadata": {
    "scrolled": true
   },
   "outputs": [
    {
     "name": "stderr",
     "output_type": "stream",
     "text": [
      "/home/yiqin/anaconda3/lib/python3.6/site-packages/ipykernel_launcher.py:30: UserWarning: invalid index of a 0-dim tensor. This will be an error in PyTorch 0.5. Use tensor.item() to convert a 0-dim tensor to a Python number\n"
     ]
    },
    {
     "name": "stdout",
     "output_type": "stream",
     "text": [
      "68.4667%\n"
     ]
    }
   ],
   "source": [
    "print(validate(model, train_X[15000:16000], train_Y[15000:16000]))"
   ]
  },
  {
   "cell_type": "code",
   "execution_count": null,
   "metadata": {
    "collapsed": true
   },
   "outputs": [],
   "source": []
  }
 ],
 "metadata": {
  "kernelspec": {
   "display_name": "Python 3",
   "language": "python",
   "name": "python3"
  },
  "language_info": {
   "codemirror_mode": {
    "name": "ipython",
    "version": 3
   },
   "file_extension": ".py",
   "mimetype": "text/x-python",
   "name": "python",
   "nbconvert_exporter": "python",
   "pygments_lexer": "ipython3",
   "version": "3.6.1"
  }
 },
 "nbformat": 4,
 "nbformat_minor": 1
}
