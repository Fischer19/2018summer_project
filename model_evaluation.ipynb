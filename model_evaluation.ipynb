{
 "cells": [
  {
   "cell_type": "code",
   "execution_count": 6,
   "metadata": {},
   "outputs": [
    {
     "name": "stdout",
     "output_type": "stream",
     "text": [
      "True\n"
     ]
    },
    {
     "data": {
      "text/plain": [
       "' \\nNOTE: \\nEncoder RNN input of size (Sentence_length * input_feature)\\nEncoder RNN output of size (1 * 1 * hidden_size)  should be (num_sentences * 1 * hidden_size)\\n\\nDecoder RNN input of size 0 (scalar value)\\nDecoder RNN output of size (1 * target_num)   should be (num_sentences * target_num)\\n'"
      ]
     },
     "execution_count": 6,
     "metadata": {},
     "output_type": "execute_result"
    }
   ],
   "source": [
    "import torch\n",
    "import torch.nn as nn\n",
    "from torch import optim\n",
    "import torch.nn.functional as F\n",
    "import matplotlib.pyplot as plt\n",
    "%matplotlib inline \n",
    "plt.switch_backend('agg')\n",
    "import matplotlib.ticker as ticker\n",
    "import numpy as np\n",
    "from torch.autograd import Variable\n",
    "\n",
    "device = torch.device(\"cuda\" if torch.cuda.is_available() else \"cpu\")\n",
    "#device = torch.device(\"cpu\")\n",
    "    \n",
    "class DecoderRNN(nn.Module):\n",
    "    def __init__(self, input_size, hidden_size, output_size):\n",
    "        super(DecoderRNN, self).__init__()\n",
    "        self.input_size = input_size\n",
    "        self.hidden_size = hidden_size\n",
    "        self.output_size = output_size\n",
    "        \n",
    "        self.lstm_1 = nn.LSTM(self.input_size, self.hidden_size)\n",
    "        self.lstm_2 = nn.LSTM(self.hidden_size, self.hidden_size)\n",
    "        self.lstm_3 = nn.LSTM(self.hidden_size, self.hidden_size)\n",
    "        self.lstm_4 = nn.LSTM(self.hidden_size, self.hidden_size)\n",
    "        self.lstm_5 = nn.LSTM(self.hidden_size, self.hidden_size)\n",
    "        self.lstm_6 = nn.LSTM(self.hidden_size, self.hidden_size)\n",
    "        self.lstm_7 = nn.LSTM(self.hidden_size, self.hidden_size)\n",
    "        \n",
    "        self.out = nn.Linear(self.hidden_size, self.output_size)\n",
    "          \n",
    "        self.softmax = nn.Softmax(dim=1)\n",
    "        \n",
    "    def forward(self, input, ch_1, ch_2, ch_3, ch_4, ch_5, ch_6, ch_7):\n",
    "        (hidden_1, cell_1), (hidden_2, cell_2), (hidden_3, cell_3), (hidden_4, cell_4), (hidden_5, cell_5) = ch_1, ch_2, ch_3, ch_4, ch_5\n",
    "        (hidden_6, cell_6), (hidden_7, cell_7) = ch_6, ch_7\n",
    "        \n",
    "        \n",
    "        output, (hidden_1, cell_1) = self.lstm_1(input.view(1,1,-1).float(), (hidden_1, cell_1))\n",
    "        output_1 = output\n",
    "        \n",
    "        output, (hidden_2, cell_2) = self.lstm_2(output, (hidden_2, cell_2))\n",
    "        output_2 = output\n",
    "        \n",
    "        output, (hidden_3, cell_3) = self.lstm_3(output + output_1, (hidden_3, cell_3)) # skip_connection 1\n",
    "        output_3 = output\n",
    "        \n",
    "        output, (hidden_4, cell_4) = self.lstm_4(output + output_2, (hidden_4, cell_4)) # skip_connection 2\n",
    "        output_4 = output\n",
    "        \n",
    "        output, (hidden_5, cell_5) = self.lstm_5(output + output_3, (hidden_5, cell_5)) # skip_connection 3\n",
    "        output_5 = output\n",
    "        \n",
    "        output, (hidden_6, cell_6) = self.lstm_6(output + output_4, (hidden_6, cell_6)) # skip_connection 4\n",
    "        \n",
    "        output, (hidden_7, cell_7) = self.lstm_7(output + output_5, (hidden_7, cell_7)) # skip_connection 5\n",
    "        \n",
    "        output = self.out(output[0])\n",
    "        #output = self.softmax(output)\n",
    "        return output, (hidden_1, cell_1),(hidden_2, cell_2),(hidden_3, cell_3),(hidden_4, cell_4),(hidden_5, cell_5),(hidden_6, cell_6),(hidden_7, cell_7)\n",
    "    \n",
    "    def init_hidden(self):\n",
    "        return torch.rand((1, 1, self.hidden_size), device=device)/100\n",
    "    \n",
    "    def init_cell(self):\n",
    "        return torch.rand((1, 1, self.hidden_size), device=device)/100\n",
    "    \n",
    "    \n",
    "print(torch.cuda.is_available())\n",
    "\n",
    "\n",
    "\n",
    "\"\"\" \n",
    "NOTE: \n",
    "Encoder RNN input of size (Sentence_length * input_feature)\n",
    "Encoder RNN output of size (1 * 1 * hidden_size)  should be (num_sentences * 1 * hidden_size)\n",
    "\n",
    "Decoder RNN input of size 0 (scalar value)\n",
    "Decoder RNN output of size (1 * target_num)   should be (num_sentences * target_num)\n",
    "\"\"\""
   ]
  },
  {
   "cell_type": "code",
   "execution_count": 7,
   "metadata": {
    "collapsed": true
   },
   "outputs": [],
   "source": [
    "import pickle\n",
    "\n",
    "# load data from file\n",
    "\"\"\"with open(\"/home/yiqin/2018summer_project/DeepMusic/pitch_data.pkl\", \"rb\") as f:\n",
    "    dic = pickle.load(f)\n",
    "    train_X = dic[\"X\"]\n",
    "    #train_Y = dic[\"Y\"]\n",
    "    #time_X = dic[\"time\"]\n",
    "    \"\"\"\n",
    "    \n",
    "with open(\"/home/yiqin/2018summer_project/data/smooth_data.pkl\", \"rb\") as f:\n",
    "    dic = pickle.load(f)\n",
    "    train_X = dic[\"X\"]\n",
    "    train_Y = dic[\"Y\"]\n",
    "    \n",
    "    \n",
    "target_Tensor = train_Y\n",
    "maximum_target = len(train_Y)"
   ]
  },
  {
   "cell_type": "code",
   "execution_count": 21,
   "metadata": {
    "collapsed": true
   },
   "outputs": [],
   "source": [
    "def evaluate(decoder, test_X):\n",
    "    if type(test_X.size) is int: \n",
    "        input_length = test_X.size\n",
    "    else:\n",
    "        input_length = test_X.size(0)\n",
    "    \n",
    "    loss = 0\n",
    "        \n",
    "    hidden_1 = decoder.init_hidden()\n",
    "    hidden_2 = decoder.init_hidden()\n",
    "    hidden_3 = decoder.init_hidden()\n",
    "    hidden_4 = decoder.init_hidden()\n",
    "    hidden_5 = decoder.init_hidden()\n",
    "    hidden_6 = decoder.init_hidden()\n",
    "    hidden_7 = decoder.init_hidden()\n",
    "    cell_1 = decoder.init_cell()\n",
    "    cell_2 = decoder.init_cell()\n",
    "    cell_3 = decoder.init_cell()\n",
    "    cell_4 = decoder.init_cell()\n",
    "    cell_5 = decoder.init_cell()\n",
    "    cell_6 = decoder.init_cell()\n",
    "    cell_7 = decoder.init_cell()\n",
    "    \n",
    "    temp = []\n",
    "    temp_score = []\n",
    "    \n",
    "    decoder_input = test_X[0]\n",
    "    \n",
    "    for di in range(0, input_length):\n",
    "        decoder_output, (hidden_1, cell_1), (hidden_2, cell_2), (hidden_3, cell_3),  (hidden_4, cell_4), (hidden_5, cell_5), (hidden_6, cell_6), (hidden_7, cell_7) = decoder(decoder_input, \n",
    "                        (hidden_1, cell_1), (hidden_2, cell_2), (hidden_3, cell_3), (hidden_4, cell_4), (hidden_5, cell_5), (hidden_6, cell_6), (hidden_7, cell_7))\n",
    "        output = float(decoder_output.data.cpu().numpy())\n",
    "        temp.append(str('%.4f'%output))\n",
    "        if di + 1 < input_length:\n",
    "            decoder_input = test_X[di+1]\n",
    "\n",
    "    return np.array(temp)"
   ]
  },
  {
   "cell_type": "code",
   "execution_count": 9,
   "metadata": {},
   "outputs": [
    {
     "name": "stdout",
     "output_type": "stream",
     "text": [
      "DecoderRNN(\n",
      "  (lstm_1): LSTM(2, 256)\n",
      "  (lstm_2): LSTM(256, 256)\n",
      "  (lstm_3): LSTM(256, 256)\n",
      "  (lstm_4): LSTM(256, 256)\n",
      "  (lstm_5): LSTM(256, 256)\n",
      "  (lstm_6): LSTM(256, 256)\n",
      "  (lstm_7): LSTM(256, 256)\n",
      "  (out): Linear(in_features=256, out_features=1, bias=True)\n",
      "  (softmax): Softmax()\n",
      ")\n"
     ]
    }
   ],
   "source": [
    "input_size = 2\n",
    "hidden_size = 256\n",
    "output_size = 1\n",
    "\n",
    "model = DecoderRNN(input_size, hidden_size, output_size).to(device)\n",
    "\n",
    "model.load_state_dict(torch.load(\"lstm_smooth_train.pt\"))\n",
    "print(model)"
   ]
  },
  {
   "cell_type": "code",
   "execution_count": 5,
   "metadata": {},
   "outputs": [
    {
     "name": "stdout",
     "output_type": "stream",
     "text": [
      "['0.5052' '0.2680' '0.2123' '0.2615' '0.6575' '0.3456' '0.2443' '0.1208'\n",
      " '0.2671' '0.2712' '0.5836' '0.3614' '0.7295' '0.4606' '0.3404' '0.1747'\n",
      " '0.2724' '0.3518' '0.9019']\n",
      "[ 0.5    0.25   0.25   0.5    1.     0.5    0.25   0.125  0.125  0.125\n",
      "  0.25   0.5    1.     0.5    0.25   0.25   0.25   0.5    1.   ]\n"
     ]
    }
   ],
   "source": [
    "print(evaluate(model, train_X[15001].to(device)))\n",
    "print(train_Y[15001].numpy())"
   ]
  },
  {
   "cell_type": "code",
   "execution_count": 8,
   "metadata": {
    "collapsed": true
   },
   "outputs": [],
   "source": [
    "def validate(decoder, val_x, val_y):\n",
    "\n",
    "    hidden_1 = decoder.init_hidden()\n",
    "    hidden_2 = decoder.init_hidden()\n",
    "    hidden_3 = decoder.init_hidden()\n",
    "    hidden_4 = decoder.init_hidden()\n",
    "    hidden_5 = decoder.init_hidden()\n",
    "    hidden_6 = decoder.init_hidden()\n",
    "    hidden_7 = decoder.init_hidden()\n",
    "    cell_1 = decoder.init_cell()\n",
    "    cell_2 = decoder.init_cell()\n",
    "    cell_3 = decoder.init_cell()\n",
    "    cell_4 = decoder.init_cell()\n",
    "    cell_5 = decoder.init_cell()\n",
    "    cell_6 = decoder.init_cell()\n",
    "    cell_7 = decoder.init_cell()\n",
    "    \n",
    "    temp = []\n",
    "    temp_score = []\n",
    "    count = 0\n",
    "    for i in range(len(val_x)):\n",
    "        X = val_x[i].to(device)\n",
    "        val_input = X[0]\n",
    "        input_length = X.size(0)\n",
    "        for di in range(0, input_length):\n",
    "            decoder_output, (hidden_1, cell_1), (hidden_2, cell_2), (hidden_3, cell_3),  (hidden_4, cell_4), (hidden_5, cell_5), (hidden_6, cell_6), (hidden_7, cell_7) = decoder(val_input, \n",
    "                            (hidden_1, cell_1), (hidden_2, cell_2), (hidden_3, cell_3), (hidden_4, cell_4), (hidden_5, cell_5), (hidden_6, cell_6), (hidden_7, cell_7))\n",
    "            output = float(decoder_output.data.cpu().numpy())\n",
    "            #print(int(val_y[i][di]), decoder_output)\n",
    "            target = int(val_y[i][di].item())\n",
    "            score = int(decoder_output.item())\n",
    "            if int(val_y[i][di].item()) * int(decoder_output.item() > 0.5 and ):\n",
    "                count += 1.0\n",
    "            if di + 1 < input_length:\n",
    "                val_input = X[di+1]\n",
    "                \n",
    "    acc = str('%.4f'%((count / len(val_x) * 100/3)) + \"%\")\n",
    "    return acc\n"
   ]
  },
  {
   "cell_type": "code",
   "execution_count": 9,
   "metadata": {
    "scrolled": true
   },
   "outputs": [
    {
     "name": "stderr",
     "output_type": "stream",
     "text": [
      "/home/yiqin/anaconda3/lib/python3.6/site-packages/ipykernel_launcher.py:30: UserWarning: invalid index of a 0-dim tensor. This will be an error in PyTorch 0.5. Use tensor.item() to convert a 0-dim tensor to a Python number\n"
     ]
    },
    {
     "name": "stdout",
     "output_type": "stream",
     "text": [
      "68.4667%\n"
     ]
    }
   ],
   "source": [
    "print(validate(model, train_X[15000:16000], train_Y[15000:16000]))"
   ]
  },
  {
   "cell_type": "code",
   "execution_count": 52,
   "metadata": {},
   "outputs": [
    {
     "name": "stdout",
     "output_type": "stream",
     "text": [
      "0.0000%\n",
      "0.7283%\n",
      "1.4567%\n",
      "2.1850%\n",
      "2.9133%\n",
      "3.6417%\n",
      "4.3700%\n",
      "5.0983%\n",
      "5.8267%\n",
      "6.5550%\n",
      "7.2833%\n",
      "8.0117%\n",
      "8.7400%\n",
      "9.4683%\n",
      "10.1966%\n",
      "10.9250%\n",
      "11.6533%\n",
      "12.3816%\n",
      "13.1100%\n",
      "13.8383%\n",
      "14.5666%\n",
      "15.2950%\n",
      "16.0233%\n",
      "16.7516%\n",
      "17.4800%\n",
      "18.2083%\n",
      "18.9366%\n",
      "19.6650%\n",
      "20.3933%\n",
      "21.1216%\n",
      "21.8500%\n",
      "22.5783%\n",
      "23.3066%\n",
      "24.0350%\n",
      "24.7633%\n",
      "25.4916%\n",
      "26.2200%\n",
      "26.9483%\n",
      "27.6766%\n",
      "28.4050%\n",
      "29.1333%\n",
      "29.8616%\n",
      "30.5899%\n",
      "31.3183%\n",
      "32.0466%\n",
      "32.7749%\n",
      "33.5033%\n",
      "34.2316%\n",
      "34.9599%\n",
      "35.6883%\n",
      "36.4166%\n",
      "37.1449%\n",
      "37.8733%\n",
      "38.6016%\n",
      "39.3299%\n",
      "40.0583%\n",
      "40.7866%\n",
      "41.5149%\n",
      "42.2433%\n",
      "42.9716%\n",
      "43.6999%\n",
      "44.4283%\n",
      "45.1566%\n",
      "45.8849%\n",
      "46.6133%\n",
      "47.3416%\n",
      "48.0699%\n",
      "48.7983%\n",
      "49.5266%\n",
      "50.2549%\n",
      "50.9832%\n",
      "51.7116%\n",
      "52.4399%\n",
      "53.1682%\n",
      "53.8966%\n",
      "54.6249%\n",
      "55.3532%\n",
      "56.0816%\n",
      "56.8099%\n",
      "57.5382%\n",
      "58.2666%\n",
      "58.9949%\n",
      "59.7232%\n",
      "60.4516%\n",
      "61.1799%\n",
      "61.9082%\n",
      "62.6366%\n",
      "63.3649%\n",
      "64.0932%\n",
      "64.8216%\n",
      "65.5499%\n",
      "66.2782%\n",
      "67.0066%\n",
      "67.7349%\n",
      "68.4632%\n",
      "69.1916%\n",
      "69.9199%\n",
      "70.6482%\n",
      "71.3765%\n",
      "72.1049%\n",
      "72.8332%\n",
      "73.5615%\n",
      "74.2899%\n",
      "75.0182%\n",
      "75.7465%\n",
      "76.4749%\n",
      "77.2032%\n",
      "77.9315%\n",
      "78.6599%\n",
      "79.3882%\n",
      "80.1165%\n",
      "80.8449%\n",
      "81.5732%\n",
      "82.3015%\n",
      "83.0299%\n",
      "83.7582%\n",
      "84.4865%\n",
      "85.2149%\n",
      "85.9432%\n",
      "86.6715%\n",
      "87.3999%\n",
      "88.1282%\n",
      "88.8565%\n",
      "89.5849%\n",
      "90.3132%\n",
      "91.0415%\n",
      "91.7698%\n",
      "92.4982%\n",
      "93.2265%\n",
      "93.9548%\n",
      "94.6832%\n",
      "95.4115%\n",
      "96.1398%\n",
      "96.8682%\n",
      "97.5965%\n",
      "98.3248%\n",
      "99.0532%\n",
      "99.7815%\n",
      "1373\n"
     ]
    }
   ],
   "source": [
    "with open(\"/home/yiqin/2018summer_project/data/smooth_data_long.pkl\", \"rb\") as f:\n",
    "    dic = pickle.load(f)\n",
    "    real_X = dic[\"X2\"]\n",
    "    real_Y = dic[\"Y\"]\n",
    "result_list = []\n",
    "for i in range(len(real_X)):\n",
    "    if i < 1300:\n",
    "        result_list.append(0)\n",
    "    else:\n",
    "        result = evaluate(model, real_X[i].to(device)).astype(float)\n",
    "        target = np.full_like(result, 0.55)\n",
    "        result = (np.sign(np.subtract(result, target)) == 1).astype(int)\n",
    "        result_list.append(result)\n",
    "    if (i%10 == 0):\n",
    "        print(\"%.4f\"%((i / len(real_X)) * 100) + \"%\")\n",
    "print(len(result_list))"
   ]
  },
  {
   "cell_type": "code",
   "execution_count": 56,
   "metadata": {
    "collapsed": true
   },
   "outputs": [],
   "source": [
    "f = open(\"/home/yiqin/2018summer_project/data/model_prediction.pkl\", \"wb\")\n",
    "pickle.dump(result_list, f)\n",
    "f.close()"
   ]
  },
  {
   "cell_type": "code",
   "execution_count": 57,
   "metadata": {},
   "outputs": [
    {
     "name": "stdout",
     "output_type": "stream",
     "text": [
      "[0 0 0 0 0 0 1 1 0 0 0 0 0 0 1 0 0 0 0 0 0 1 0 0 0 0 0 0 0 0 1 0 0 0 0 0 0\n",
      " 1 0 0 0 0 0 0 0 1 0 0 0 0 0 0 1 0 1 0 0 0 0 0 0 1 0 0 0 0 0 0 1 0 0 0 0 0\n",
      " 0 0 0 1 0 0 0 0 0 0 1 0 1 0 0 0 0 0 0 1 0 0 0 0 0 0 1 0 0 0 0 0 0 0 1 0 0\n",
      " 0 0 0 0 1 0 0 0 0 0 0 0 0 1 0 0 0 0 0 0 1 1 0 0 0 0 0 0 1 0 0 0 0 0 0 0 0\n",
      " 0 0 0 0 0 0 0 0 1 0 0 0 0 0 0 1 0 0 0 0 0 0 0 0 1 0 0 0 0 0 0 1 0 1 0 0 0\n",
      " 0 0 0 1 0 0 0 0 0 0 1 0 0 0 0 0 0 1 0 0 0 0 0 0 0 1 0 1 0 0 0 0 0 0 1 0 0\n",
      " 0 0 0 0 1 0 0 0 0 0 0 0 0 1 0 0 0 0 0 0 1 1 0 0 0 0 0 0 1 1 1 0 0 0 0 0 1\n",
      " 0 0 0 0 1 1 0 0 0 0 1 1 1 1 1 0 0]\n"
     ]
    }
   ],
   "source": [
    "print(result_list[1362])"
   ]
  },
  {
   "cell_type": "code",
   "execution_count": null,
   "metadata": {
    "collapsed": true
   },
   "outputs": [],
   "source": []
  }
 ],
 "metadata": {
  "kernelspec": {
   "display_name": "Python 3",
   "language": "python",
   "name": "python3"
  },
  "language_info": {
   "codemirror_mode": {
    "name": "ipython",
    "version": 3
   },
   "file_extension": ".py",
   "mimetype": "text/x-python",
   "name": "python",
   "nbconvert_exporter": "python",
   "pygments_lexer": "ipython3",
   "version": "3.6.1"
  }
 },
 "nbformat": 4,
 "nbformat_minor": 1
}
